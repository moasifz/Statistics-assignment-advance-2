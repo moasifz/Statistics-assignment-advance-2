{
  "metadata": {
    "kernelspec": {
      "name": "python",
      "display_name": "Python (Pyodide)",
      "language": "python"
    },
    "language_info": {
      "codemirror_mode": {
        "name": "python",
        "version": 3
      },
      "file_extension": ".py",
      "mimetype": "text/x-python",
      "name": "python",
      "nbconvert_exporter": "python",
      "pygments_lexer": "ipython3",
      "version": "3.8"
    }
  },
  "nbformat_minor": 4,
  "nbformat": 4,
  "cells": [
    {
      "cell_type": "code",
      "source": "#Q-1 Define the z-statistic and explain its relationship to the standard normal distribution.How is the z-statistic used in hypothesis testing?\n#ANS- The z-statistic,or z-score,measures how many standard deviations an element is from the mean.it is defined as \n# z = (X-mu)/sigma\n#where X is the value,mu is the mean,and sigma is the standard deviation.\n#The z-statistic follows the standard normal distribution,which has a mean of 0 and a standard deviation of 1.In hypothesis testing,the\n#z-statistic helps determine the probability of observing a value as extreme as the one in the sample if the null hypothesis is true.",
      "metadata": {
        "trusted": true
      },
      "outputs": [],
      "execution_count": 1
    },
    {
      "cell_type": "code",
      "source": "#Q-2 What is p-value,and how is it used in hypothesis testing?What does it mean if the p-value is very small (e.g.,0.01)?\n#ANS-The p-value represents the probability of observing the test results under the assumption taht the null hypothesis is correct.A very small \n#p-value(e.g.,0.01) suggests strong evidence against the null hypothesis,that we may reject the null hypothesis in favour of the \n#alternative hypothesis.",
      "metadata": {
        "trusted": true
      },
      "outputs": [],
      "execution_count": 3
    },
    {
      "cell_type": "code",
      "source": "#Q-3 Compare and contast the binomial and bernoulli distributions.\n#ANS- Bernoulli distributions:\n# DEFINTIONS-The bernoulli distribution describes a single trial with two possible outcomes successs(usually coded as 1) and failure(coded as 0).\n# PARAMETERS-It has one parameter p,which is the probability of successs.\n# Outcomes-There are only two outcomes:success(with probability p) and failure(with probability 1-p).\n#   Binomial distribution:\n# DEFINITIONS-The binomial distribution describes the number of success in a fixed number of independent bernoulli trials (in trials).\n# PARAMETERS-It has two parameters n(the number of trials) and p (the probability of successs on each trial).\n# Outcomes-The possible outcomes range from 0 to n success in n trials.",
      "metadata": {
        "trusted": true
      },
      "outputs": [],
      "execution_count": 4
    },
    {
      "cell_type": "code",
      "source": "#Q-4 Under what conditions is the binomial distribution used,and how does it relate to the bernoulli distribution?\n#ANS- The binomial distribution is used when:\n#1-There is a fixed number of trials(n).\n#2-Each trial has two possible outcomes (successs/failure).\n#3-The probability of success(p) is constant.\n#4-Trials are independent.\n#It relates to the bernoulli distribution with m trials is essentially the sum of n independent bernoulli trials.",
      "metadata": {
        "trusted": true
      },
      "outputs": [],
      "execution_count": 5
    },
    {
      "cell_type": "code",
      "source": "#5-What are the key properties of the poisson distribution,and when is it appropriate to use this distribution?\n#ANS-The poisson distribution describes the probability of a given number of events occuring within a fixed interval.\n#Key properties are include:\n#Defined by a single parameter lambda(average rate of occurrence).\n#Mean and variance are both equal to lambda.\n#It is appropriate for modelling the number of events in a fixed interval of time or space when events are independent ,and the average rate is constant.",
      "metadata": {
        "trusted": true
      },
      "outputs": [],
      "execution_count": 6
    },
    {
      "cell_type": "code",
      "source": "#Q-6 Define the terms 'probability distribution' and 'probability density function'(PDF).How does a pdf differ from a probability mass function(PMF)?\n#ANS-Probability distribution:A function that provides the parobabilities of all possible outcomes of a random variable.\n#Probability density function(PDF):A function that describes the likelihood of a continuous randomvariable taking on a range of values.\n#The PMF applies to discrete variables,assigning probabilities to each outcome,while the PDF applies to continuous variables,\n#representing probabilities over an interval.",
      "metadata": {
        "trusted": true
      },
      "outputs": [],
      "execution_count": 7
    },
    {
      "cell_type": "code",
      "source": "#Q-7 Explain the central limit theorem(CLT) with an example?\n#ANS-The Central Limit Theorem(CLT) is a fundamental statistical concept that states that given a sufficiently large sample sizes.\n# The sampling distribution of the sample mean will be normally distributed,regardless of the shape of the population distribution,\n# provided the population has a finite mean and variance.\n# Key points of the Central Limit Theorem:\n#1-Sample size-Typically a sample size of 30 or more is considered sufficient for the CLT to hold.\n#2-Sampling Distribution:The distribution of the sample means will approach a normal distribution as the sample size increases.\n#3-Mean and Variance\n#EXAMPLE:-Suppose we sample household incomes,which are often right-skewed.With enough random samples,the distribution of sample means will tend\n#to be normal,centered around the population mean.",
      "metadata": {
        "trusted": true
      },
      "outputs": [],
      "execution_count": 8
    },
    {
      "cell_type": "code",
      "source": "#Q-8 Compare Z-scores and T-scores.When should you use a z-score,and when should a t-score be applied instead?\n#ANS-Z-Scores and T-Scores are both used in statistics to standardize scores and make comparison across diferent datasets,but they are used in different contexts based on the characteristics of the data and sample size.\n# Z-SCORES:-\n#DEFINITION:A Z-Scores measures how many standard deviations a data poiunt is from the mean of the distribution.\n#FORMULA:-\n#Z = X-mu/sigma\n#where X is the value mu and sigma is the population standard deviation\n#USE CASE:-Population data and Normal distribution\n#T-SCORES\n#DEFINTION:-A T-Score also measures how many standard deviations a data point is from the mean,but it accounts for the sample size\n#and is used when the population standard deviation is unknown.\n#FORMULA:- T=X-X/S/UNDERROT n\n#where X is the sample mean,s is the sample standard deviation,and n is the sample size \n#USE CASE:-Small sample size and Simple variablity\n# When to use each t-score and z- score\n#USE Z-SCORES WHEN-\n#1-The sample size is alrge (n>30).\n#2-The population standard deviation is known.\n#USE CASE T-SCORES WHEN-\n#1-The sample size is small (n<30).\n#2-The population standard deviationis unknown.",
      "metadata": {
        "trusted": true
      },
      "outputs": [],
      "execution_count": 10
    },
    {
      "cell_type": "raw",
      "source": "#Q-9 Given a sample mean of 105,a population mean of 100,a standard deviation of 15,and a sample size of 25,calculate the z-score and p-value .based on a significance level of 0.05,do you reject or fail to reject the null hypothesis?\n#Task-Write python code to calculate the z-score and p-value for the given data.\n#Objective-Apply the formula for the z-score and interupt the p-value for hypothesis testing.\n#ANS-Calculate the z-score given-\n#sample mean=105, population mean= 100, standard deviation=15,  sample size=25\n# z= x-mu/sigma/underrootn = 105-100/15√25",
      "metadata": {}
    },
    {
      "cell_type": "code",
      "source": "import scipy.stats as stats\nimport numpy as np\n\n#given data \nsample_mean = 105\npopulation_mean = 100\nstd_deviation = 15\nsample_size = 25\n\n#calculate z-score\nz_score = (sample_mean - population_mean) / (std_dev / np.sqrt(sample_size))\n\n#calculate p-value (two-trailed)\np_value = 2 * (1 - stats.norm.cdf(abs(z_score)))\n\n# Output the results\nprint(f\"Z-score: {z_score}\")\nprint(f\"P-value: {p_value}\")\n\n# Decision based on significance level\nalpha = 0.05\nif p_value < alpha:\n    print(\"Reject the null hypothesis.\")\nelse:\n    print(\"Fail to reject the null hypothesis.\")\n",
      "metadata": {
        "trusted": true
      },
      "outputs": [],
      "execution_count": null
    },
    {
      "cell_type": "code",
      "source": "#Q-10-Simulate a binomial distribution with 10 trials and a probability of success of 0.6 using python.Generate 1,000 samples and plot the distribution.What is the expected mean and variance?\n#Task:Use python to generate the data,plot the distribution,and calculate the mean and variance.\n#Objective:Understand the properties of a binomial distribution and verify them through simulation.\n#ANS-To simulate a binomial distribution with 10 trials and a probability of success of 0.6,we can use python along with libraries\n#such as Numpy and Matplotlib for data generation and plotting.The expected mean and variance for a binomial distribution can be calculated using the formulas.\n# where n is the number of trials (10 in this case)\n# p is the probability of success(0.6 in this case)",
      "metadata": {
        "trusted": true
      },
      "outputs": [],
      "execution_count": null
    },
    {
      "cell_type": "code",
      "source": "#here is the python code\nimport numpy as np\nimport matplotlib.pyplot as plt\nimport seaborn as sns\n\n#parameters\nn_trials = 10\np_success = 0.6\nn_sample = 1000\n\n# simulate binomial distribution\nsample = np.random.binomial(n_trials, p_success, n_samples)\n\n# calculate expected mean and variance\nexpected_mean = n_trials * p_success\nexpected_variance = n_trials * p_success * (1 - p_success)\n\n#plot the distribution\nplt.figure(figsize=(10, 6))\nsns.hisplot(samples, bins=np.arrange(0.5, n_trials + 1.5, 1), kde=False, color='blue', edgecolor='black')\nplt.title('Simulated Binomial Distribution (n=10, p=0.6)')\nplt.xlabel('Number of Successes')\nplt.ylabel('Frequency')\nplt.xticks(range(n_trials + 1))\nplt.grid(axis='y')\nplt.show()\n\n#Output the expected mean and variance\nprint(f\"Expected Mean: {expected_mean}\")\nprint(f\"Expected Variance: {expected_variance}\")",
      "metadata": {
        "trusted": true
      },
      "outputs": [
        {
          "ename": "<class 'ModuleNotFoundError'>",
          "evalue": "No module named 'seaborn'",
          "traceback": [
            "\u001b[0;31m---------------------------------------------------------------------------\u001b[0m",
            "\u001b[0;31mModuleNotFoundError\u001b[0m                       Traceback (most recent call last)",
            "Cell \u001b[0;32mIn[5], line 4\u001b[0m\n\u001b[1;32m      2\u001b[0m \u001b[38;5;28;01mimport\u001b[39;00m \u001b[38;5;21;01mnumpy\u001b[39;00m \u001b[38;5;28;01mas\u001b[39;00m \u001b[38;5;21;01mnp\u001b[39;00m\n\u001b[1;32m      3\u001b[0m \u001b[38;5;28;01mimport\u001b[39;00m \u001b[38;5;21;01mmatplotlib\u001b[39;00m\u001b[38;5;21;01m.\u001b[39;00m\u001b[38;5;21;01mpyplot\u001b[39;00m \u001b[38;5;28;01mas\u001b[39;00m \u001b[38;5;21;01mplt\u001b[39;00m\n\u001b[0;32m----> 4\u001b[0m \u001b[38;5;28;01mimport\u001b[39;00m \u001b[38;5;21;01mseaborn\u001b[39;00m \u001b[38;5;28;01mas\u001b[39;00m \u001b[38;5;21;01msns\u001b[39;00m\n\u001b[1;32m      6\u001b[0m \u001b[38;5;66;03m#parameters\u001b[39;00m\n\u001b[1;32m      7\u001b[0m n_trials \u001b[38;5;241m=\u001b[39m \u001b[38;5;241m10\u001b[39m\n",
            "\u001b[0;31mModuleNotFoundError\u001b[0m: No module named 'seaborn'"
          ],
          "output_type": "error"
        }
      ],
      "execution_count": 5
    },
    {
      "cell_type": "raw",
      "source": "",
      "metadata": {}
    },
    {
      "cell_type": "code",
      "source": "",
      "metadata": {
        "trusted": true
      },
      "outputs": [],
      "execution_count": null
    }
  ]
}